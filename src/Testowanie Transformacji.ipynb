{
 "cells": [
  {
   "cell_type": "code",
   "execution_count": 1,
   "id": "d3f6a2d3",
   "metadata": {},
   "outputs": [],
   "source": [
    "import numpy as np"
   ]
  },
  {
   "cell_type": "code",
   "execution_count": 2,
   "id": "f2f2fe74",
   "metadata": {},
   "outputs": [],
   "source": [
    "p1_transform = np.array([[-8.16843534e-01, -5.76859013e-01, -5.66573777e-04,  6.62040098e-01],\n",
    "                         [-5.76758862e-01,  8.16682604e-01,  1.94612586e-02,  3.08967369e-01],\n",
    "                         [-1.07636914e-02,  1.62235797e-02, -9.99810451e-01,  1.46636637e-01],\n",
    "                         [ 0.00000000e+00,  0.00000000e+00,  0.00000000e+00,  1.00000000e+00]])\n",
    "p2_transform = np.array([[-0.99434953, -0.10322289, -0.02477986,  0.65651506],\n",
    "                         [-0.1035818 ,  0.99452709,  0.01366262, -0.06192352],\n",
    "                         [ 0.02323394,  0.01615217, -0.99959957,  0.14809759],\n",
    "                         [ 0.        ,  0.        ,  0.        ,  1.        ]])\n",
    "p3_transform = np.array([[-0.89780702, -0.43660928, -0.05757502,  0.93047206],\n",
    "                         [-0.43678759,  0.89950778, -0.01011694,  0.30926958],\n",
    "                         [ 0.05620633,  0.016065  , -0.99828992,  0.14337146],\n",
    "                         [ 0.        ,  0.        ,  0.        ,  1.        ]])"
   ]
  },
  {
   "cell_type": "code",
   "execution_count": 3,
   "id": "c8b746a2",
   "metadata": {},
   "outputs": [],
   "source": [
    "p1_p2_transform = np.linalg.inv(p1_transform) @ p2_transform "
   ]
  },
  {
   "cell_type": "code",
   "execution_count": 4,
   "id": "6684d78f",
   "metadata": {},
   "outputs": [],
   "source": [
    "p1_p3_transform = np.linalg.inv(p1_transform) @ p3_transform"
   ]
  },
  {
   "cell_type": "markdown",
   "id": "d26819e3",
   "metadata": {},
   "source": [
    "## Wektory bazowe"
   ]
  },
  {
   "cell_type": "code",
   "execution_count": 5,
   "id": "3b59628b",
   "metadata": {},
   "outputs": [
    {
     "data": {
      "text/plain": [
       "array([[ 0.87171962, -0.48945922,  0.02312061,  0.21841197],\n",
       "       [ 0.48938297,  0.87202007,  0.00923543, -0.29968927],\n",
       "       [-0.024682  ,  0.00326412,  0.99969003, -0.00867555],\n",
       "       [ 0.        ,  0.        ,  0.        ,  1.        ]])"
      ]
     },
     "execution_count": 5,
     "metadata": {},
     "output_type": "execute_result"
    }
   ],
   "source": [
    "p1_p2_transform"
   ]
  },
  {
   "cell_type": "code",
   "execution_count": 6,
   "id": "00db874e",
   "metadata": {},
   "outputs": [
    {
     "data": {
      "text/plain": [
       "array([[ 0.98468398, -0.16233053,  0.0636101 , -0.21940607],\n",
       "       [ 0.16210311,  0.98673499,  0.0087545 , -0.15465356],\n",
       "       [-0.06418744,  0.00169097,  0.99793643,  0.00311835],\n",
       "       [ 0.        ,  0.        ,  0.        ,  1.        ]])"
      ]
     },
     "execution_count": 6,
     "metadata": {},
     "output_type": "execute_result"
    }
   ],
   "source": [
    "p1_p3_transform"
   ]
  },
  {
   "cell_type": "code",
   "execution_count": 7,
   "id": "237a0b15",
   "metadata": {},
   "outputs": [],
   "source": [
    "base_vector_p1_p2 = p1_p2_transform[:3, 3] / np.linalg.norm(p1_p2_transform[:3, 3])"
   ]
  },
  {
   "cell_type": "code",
   "execution_count": 8,
   "id": "12dfe4d8",
   "metadata": {},
   "outputs": [],
   "source": [
    "base_vector_p1_p3 = p1_p3_transform[:3, 3] / np.linalg.norm(p1_p3_transform[:3, 3])"
   ]
  },
  {
   "cell_type": "code",
   "execution_count": 9,
   "id": "5a92a18b",
   "metadata": {},
   "outputs": [
    {
     "data": {
      "text/plain": [
       "array([ 0.58881481, -0.80792952, -0.02338833])"
      ]
     },
     "execution_count": 9,
     "metadata": {},
     "output_type": "execute_result"
    }
   ],
   "source": [
    "base_vector_p1_p2"
   ]
  },
  {
   "cell_type": "code",
   "execution_count": 10,
   "id": "682eea0e",
   "metadata": {},
   "outputs": [
    {
     "data": {
      "text/plain": [
       "array([-0.81730096, -0.57609392,  0.01161605])"
      ]
     },
     "execution_count": 10,
     "metadata": {},
     "output_type": "execute_result"
    }
   ],
   "source": [
    "base_vector_p1_p3"
   ]
  },
  {
   "cell_type": "code",
   "execution_count": 11,
   "id": "b1e0d59f",
   "metadata": {},
   "outputs": [
    {
     "data": {
      "text/plain": [
       "-0.016067312979910296"
      ]
     },
     "execution_count": 11,
     "metadata": {},
     "output_type": "execute_result"
    }
   ],
   "source": [
    "base_vector_p1_p2 @ base_vector_p1_p3"
   ]
  },
  {
   "cell_type": "code",
   "execution_count": 12,
   "id": "82e6e01a",
   "metadata": {},
   "outputs": [
    {
     "data": {
      "text/plain": [
       "-0.016067312979910296"
      ]
     },
     "execution_count": 12,
     "metadata": {},
     "output_type": "execute_result"
    }
   ],
   "source": [
    "base_vector_p1_p2[0] * base_vector_p1_p3[0] + base_vector_p1_p2[1] * base_vector_p1_p3[1] + base_vector_p1_p2[2] * base_vector_p1_p3[2]"
   ]
  },
  {
   "cell_type": "code",
   "execution_count": 13,
   "id": "5d11c08b",
   "metadata": {},
   "outputs": [
    {
     "data": {
      "text/plain": [
       "1.586864331174158"
      ]
     },
     "execution_count": 13,
     "metadata": {},
     "output_type": "execute_result"
    }
   ],
   "source": [
    "np.math.acos(-0.016067312979910296)"
   ]
  },
  {
   "cell_type": "code",
   "execution_count": 14,
   "id": "25db77a6",
   "metadata": {},
   "outputs": [],
   "source": [
    "robot_x_base_vector = np.array([1, 0, 0])\n",
    "robot_y_base_vector = np.array([0, 1, 0])"
   ]
  },
  {
   "cell_type": "code",
   "execution_count": 15,
   "id": "01757ef4",
   "metadata": {
    "scrolled": true
   },
   "outputs": [
    {
     "data": {
      "text/plain": [
       "0.5888148130338793"
      ]
     },
     "execution_count": 15,
     "metadata": {},
     "output_type": "execute_result"
    }
   ],
   "source": [
    "base_vector_p1_p2 @ robot_x_base_vector"
   ]
  },
  {
   "cell_type": "code",
   "execution_count": 16,
   "id": "989aa3f7",
   "metadata": {},
   "outputs": [
    {
     "data": {
      "text/plain": [
       "-0.8079295153942456"
      ]
     },
     "execution_count": 16,
     "metadata": {},
     "output_type": "execute_result"
    }
   ],
   "source": [
    "base_vector_p1_p2 @ robot_y_base_vector"
   ]
  },
  {
   "cell_type": "code",
   "execution_count": 17,
   "id": "f4f367db",
   "metadata": {},
   "outputs": [
    {
     "data": {
      "text/plain": [
       "0.9412045997965235"
      ]
     },
     "execution_count": 17,
     "metadata": {},
     "output_type": "execute_result"
    }
   ],
   "source": [
    "np.math.acos(0.5888148130338793)"
   ]
  },
  {
   "cell_type": "code",
   "execution_count": 18,
   "id": "66560a30",
   "metadata": {},
   "outputs": [
    {
     "data": {
      "text/plain": [
       "2.5114263417586717"
      ]
     },
     "execution_count": 18,
     "metadata": {},
     "output_type": "execute_result"
    }
   ],
   "source": [
    "np.math.acos(-0.8079295153942456)"
   ]
  },
  {
   "cell_type": "markdown",
   "id": "a60798ad",
   "metadata": {},
   "source": [
    "# Kalibracja "
   ]
  },
  {
   "cell_type": "code",
   "execution_count": 19,
   "id": "2d189fc1",
   "metadata": {},
   "outputs": [],
   "source": [
    "import numpy as np\n",
    "import roboticstoolbox as rtb\n",
    "from roboticstoolbox.robot.ERobot import ERobot\n",
    "from math import pi\n",
    "import os"
   ]
  },
  {
   "cell_type": "code",
   "execution_count": 20,
   "id": "b31d40e4",
   "metadata": {},
   "outputs": [],
   "source": [
    "class AvenaRobot(ERobot):\n",
    "    \"\"\"\n",
    "    Class that imports a planar3DOF Robot\n",
    "    \"\"\"\n",
    "\n",
    "    def __init__(self):\n",
    "        args = super().URDF_read(os.getcwd()+\"/xacro/avena_description/robots/avena_arm.urdf.xacro\")\n",
    "\n",
    "        super().__init__(\n",
    "            args[0],\n",
    "            name=args[1])"
   ]
  },
  {
   "cell_type": "code",
   "execution_count": 21,
   "id": "aa37ce7d",
   "metadata": {},
   "outputs": [],
   "source": [
    "robot = AvenaRobot()"
   ]
  },
  {
   "cell_type": "code",
   "execution_count": 22,
   "id": "ce4b0865",
   "metadata": {},
   "outputs": [
    {
     "data": {
      "text/plain": [
       "ERobot: avena, 6 joints (RRRRRR), dynamics, geometry, collision\n",
       "┌─────┬──────────────────────────┬───────┬──────────────────────────┬────────────────────────────────────────────────────┐\n",
       "│link │           link           │ joint │          parent          │                ETS: parent to link                 │\n",
       "├─────┼──────────────────────────┼───────┼──────────────────────────┼────────────────────────────────────────────────────┤\n",
       "│   0 │ robot_base_link          │       │ BASE                     │                                                    │\n",
       "│   1 │ avena_link_0             │       │ robot_base_link          │ SE3()                                              │\n",
       "│   2 │ avena_link_1             │     0 │ avena_link_0             │ SE3(0, 0, 0.063) ⊕ Rz(q0)                          │\n",
       "│   3 │ avena_link_2             │     1 │ avena_link_1             │ SE3(0.063, 0, 0.0763; 0°, 90°, -0°) ⊕ Rz(q1)       │\n",
       "│   4 │ avena_link_3             │     2 │ avena_link_2             │ SE3(-0.686, 0, 0; 180°, 7.017e-15°, 180°) ⊕ Rz(q2) │\n",
       "│   5 │ avena_link_4             │     3 │ avena_link_3             │ SE3(0.671, 0, -0.005; 180°, -0°, 0°) ⊕ Rz(q3)      │\n",
       "│   6 │ avena_link_5             │     4 │ avena_link_4             │ SE3(0.0495, 0, 0.064; 0°, -90°, 180°) ⊕ Rz(q4)     │\n",
       "│   7 │ avena_link_6             │     5 │ avena_link_5             │ SE3(0.0495, 0, 0.064; 0°, 90°, -0°) ⊕ Rz(q5)       │\n",
       "│   8 │ avena_gripper_connection │       │ avena_link_6             │ SE3(0, 0, 0.0181)                                  │\n",
       "│   9 │ @avena_szpikulec         │       │ avena_gripper_connection │ SE3(0, 0, 0.1296)                                  │\n",
       "└─────┴──────────────────────────┴───────┴──────────────────────────┴────────────────────────────────────────────────────┘"
      ]
     },
     "execution_count": 22,
     "metadata": {},
     "output_type": "execute_result"
    }
   ],
   "source": [
    "robot"
   ]
  },
  {
   "cell_type": "code",
   "execution_count": 23,
   "id": "83ca4cd0",
   "metadata": {},
   "outputs": [],
   "source": [
    "# robot.plot(origin)"
   ]
  },
  {
   "cell_type": "code",
   "execution_count": 24,
   "id": "b5bf539c",
   "metadata": {},
   "outputs": [],
   "source": [
    "p1 = [-0.236, -1.805, -0.494, -1.979, 1.265, 0.122]\n",
    "p2 = [-0.651, -1.154, 0.333, -1.794, 2.44, 0.122]\n",
    "p3 = [-0.472, -0.032, 0.017, -1.791, 2.371, 0.122]\n",
    "# origin = [-0.619, -0.232, 0, -1.481, -2.238, 0.069]\n",
    "# x_dir = [-1.068, -0.184, -0.009, -1.624, -2.245, 0.067]\n",
    "# y_dir = [-0.026, -0.068, -0.023, -1.877, -2.241, 0.067]\n",
    "origin = [-0.825, -0.61, -0.493, -1.05, -1.387, 0.017]\n",
    "x_dir = [-1.251, -0.608, -0.599, -1.247, -1.376, 0.017]\n",
    "y_dir = [-0.294, -0.596, -0.74, -1.244, -1.376, 0.017]"
   ]
  },
  {
   "cell_type": "code",
   "execution_count": 25,
   "id": "9983fd6d",
   "metadata": {},
   "outputs": [],
   "source": [
    "p1_robot_base = robot.fkine(p1).data[0]\n",
    "p2_robot_base = robot.fkine(p2).data[0]\n",
    "p3_robot_base = robot.fkine(p3).data[0]\n",
    "origin_xyz = robot.fkine(origin).data[0]\n",
    "x_dir_xyz = robot.fkine(x_dir).data[0]\n",
    "y_dir_xyz = robot.fkine(y_dir).data[0]"
   ]
  },
  {
   "cell_type": "code",
   "execution_count": 26,
   "id": "9894665f",
   "metadata": {},
   "outputs": [
    {
     "data": {
      "text/plain": [
       "array([[-0.24182475,  0.96868508,  0.05630283,  0.25043439],\n",
       "       [-0.85624894, -0.1857398 , -0.48201501,  0.2399218 ],\n",
       "       [-0.45646307, -0.16477239,  0.87435206,  1.59495057],\n",
       "       [ 0.        ,  0.        ,  0.        ,  1.        ]])"
      ]
     },
     "execution_count": 26,
     "metadata": {},
     "output_type": "execute_result"
    }
   ],
   "source": [
    "y_dir_xyz"
   ]
  },
  {
   "cell_type": "code",
   "execution_count": 27,
   "id": "4a067548",
   "metadata": {},
   "outputs": [],
   "source": [
    "p1_robot_base_xyz = p1_robot_base[:3, 3]\n",
    "p2_robot_base_xyz = p2_robot_base[:3, 3]\n",
    "p3_robot_base_xyz = p3_robot_base[:3, 3]\n",
    "p4_robot_base_xyz = p1_robot_base[:3, 3]\n"
   ]
  },
  {
   "cell_type": "code",
   "execution_count": 28,
   "id": "5320bb5b",
   "metadata": {},
   "outputs": [
    {
     "data": {
      "text/plain": [
       "array([0.44629386, 1.03743175, 0.06801785])"
      ]
     },
     "execution_count": 28,
     "metadata": {},
     "output_type": "execute_result"
    }
   ],
   "source": [
    "p1_robot_base_xyz"
   ]
  },
  {
   "cell_type": "code",
   "execution_count": 36,
   "id": "6bf70078",
   "metadata": {},
   "outputs": [],
   "source": [
    "import matplotlib.pyplot as plt\n",
    "from IPython.display import display\n",
    "%matplotlib inline\n",
    "%matplotlib widget"
   ]
  },
  {
   "cell_type": "code",
   "execution_count": 37,
   "id": "b198c2f7",
   "metadata": {
    "scrolled": false
   },
   "outputs": [
    {
     "data": {
      "image/png": "[encoded data removed]",
      "text/plain": [
       "<Figure size 432x288 with 1 Axes>"
      ]
     },
     "metadata": {},
     "output_type": "display_data"
    },
    {
     "data": {
      "application/vnd.jupyter.widget-view+json": {
       "model_id": "efd06534830c47f1833c2c926d454996",
       "version_major": 2,
       "version_minor": 0
      },
      "image/png": "[encoded data removed]",
      "text/html": [
       "\n",
       "            <div style=\"display: inline-block;\">\n",
       "                <div class=\"jupyter-widgets widget-label\" style=\"text-align: center;\">\n",
       "                    Figure\n",
       "                </div>\n",
       "                <img src='data:image/png;base64,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' width=432.0/>\n",
       "            </div>\n",
       "        "
      ],
      "text/plain": [
       "Canvas(toolbar=Toolbar(toolitems=[('Home', 'Reset original view', 'home', 'home'), ('Back', 'Back to previous …"
      ]
     },
     "metadata": {},
     "output_type": "display_data"
    }
   ],
   "source": [
    "fig = plt.figure()\n",
    "ax = fig.add_subplot(projection='3d')\n",
    "ax.scatter(*origin_xyz[:3, 3])\n",
    "ax.scatter(*x_dir_xyz[:3, 3])\n",
    "ax.scatter(*y_dir_xyz[:3, 3])\n",
    "ax.set_xlabel('X Label')\n",
    "ax.set_ylabel('Y Label')\n",
    "ax.set_zlabel('Z Label')\n",
    "display(fig)"
   ]
  },
  {
   "cell_type": "code",
   "execution_count": 30,
   "id": "7ef3e135",
   "metadata": {},
   "outputs": [],
   "source": [
    "x0 = origin_xyz[:3, 3][0]\n",
    "y0 = origin_xyz[:3, 3][1]\n",
    "z0 = origin_xyz[:3, 3][2]\n",
    "x1 = x_dir_xyz[:3, 3][0]\n",
    "y1 = x_dir_xyz[:3, 3][1]\n",
    "z1 = x_dir_xyz[:3, 3][2]\n",
    "x2 = y_dir_xyz[:3, 3][0]\n",
    "y2 = y_dir_xyz[:3, 3][1]\n",
    "z2 = y_dir_xyz[:3, 3][2]\n",
    "\n",
    "final_transform = np.zeros(shape=(4, 4))"
   ]
  },
  {
   "cell_type": "code",
   "execution_count": 35,
   "id": "55ddf859",
   "metadata": {},
   "outputs": [
    {
     "data": {
      "text/plain": [
       "array([0.25043439, 0.2399218 , 1.59495057])"
      ]
     },
     "execution_count": 35,
     "metadata": {},
     "output_type": "execute_result"
    }
   ],
   "source": [
    "y_dir_xyz[:3, 3]"
   ]
  },
  {
   "cell_type": "code",
   "execution_count": 38,
   "id": "3a5c2bcb",
   "metadata": {},
   "outputs": [],
   "source": [
    "final_transform[0][0] = (-x0 + x1) / np.sqrt((x0 - x1)**2 + (y0 - y1)**2 + (z0 - z1)**2)\n",
    "final_transform[0][1] = (-x0 + x2) / np.sqrt((x0 - x2)**2 + (y0 - y2)**2 + (z0 - z2)**2)\n",
    "final_transform[0][2] = (y2*(z0-z1) + y0*(z1-z2) + y1*(z2-z0)) / (np.sqrt(x0**2 - 2*x0*x1 + x1**2 +  y0**2 - 2*y0*y1 + y1**2 + z0**2 - 2*z0*z1 + z1**2)*np.sqrt(x0**2 - 2*x0*x2 + x2**2 +  y0**2 - 2*y0*y2 + y2**2 + z0**2 - 2*z0*z2 + z2**2))\n",
    "final_transform[0][3] = x0\n",
    "\n",
    "final_transform[1][0] = (-y0 + y1) / np.sqrt((x0 - x1)**2 + (y0 - y1)**2 + (z0 - z1)**2)\n",
    "final_transform[1][1] = (-y0 + y2) / np.sqrt((x0 - x2)**2 + (y0 - y2)**2 + (z0 - z2)**2)\n",
    "final_transform[1][2] = (x2*(z1-z0) + x1*(z2-z0) + x0*(z2-z1)) / (np.sqrt(x0**2 - 2*x0*x1 + x1**2 +  y0**2 - 2*y0*y1 + y1**2 + z0**2 - 2*z0*z1 + z1**2)*np.sqrt(x0**2 - 2*x0*x2 + x2**2 +  y0**2 - 2*y0*y2 + y2**2 + z0**2 - 2*z0*z2 + z2**2))\n",
    "final_transform[1][3] = y0\n",
    "\n",
    "final_transform[2][0] = (-z0 + z1) / np.sqrt((x0 - x1)**2 + (y0 - y1)**2 + (z0 - z1)**2)\n",
    "final_transform[2][1] = (-z0 + z2) / np.sqrt((x0 - x2)**2 + (y0 - y2)**2 + (z0 - z2)**2)\n",
    "final_transform[2][2] = (x2*(y0-y1) + x0*(y1-y2) + x1*(y2-y0)) / (np.sqrt(x0**2 - 2*x0*x1 + x1**2 +  y0**2 - 2*y0*y1 + y1**2 + z0**2 - 2*z0*z1 + z1**2)*np.sqrt(x0**2 - 2*x0*x2 + x2**2 +  y0**2 - 2*y0*y2 + y2**2 + z0**2 - 2*z0*z2 + z2**2))\n",
    "final_transform[2][3] = z0\n",
    "\n",
    "final_transform[3][3] = 1\n",
    "\n"
   ]
  },
  {
   "cell_type": "code",
   "execution_count": 39,
   "id": "c8f5a83a",
   "metadata": {},
   "outputs": [
    {
     "data": {
      "text/plain": [
       "array([[-0.01742013, -0.99429037, -0.01843869,  0.48094548],\n",
       "       [-0.99982636,  0.10522245,  0.06515936,  0.21552757],\n",
       "       [ 0.00661704,  0.01774551, -0.99595071,  1.59083655],\n",
       "       [ 0.        ,  0.        ,  0.        ,  1.        ]])"
      ]
     },
     "execution_count": 39,
     "metadata": {},
     "output_type": "execute_result"
    }
   ],
   "source": [
    "final_transform"
   ]
  },
  {
   "cell_type": "code",
   "execution_count": 43,
   "id": "5ee346cb",
   "metadata": {},
   "outputs": [],
   "source": [
    "x_vector = x_dir_xyz[:3, 3] - origin_xyz[:3, 3]\n",
    "y_vector = y_dir_xyz[:3, 3] - origin_xyz[:3, 3]"
   ]
  },
  {
   "cell_type": "code",
   "execution_count": 46,
   "id": "fde8316c",
   "metadata": {},
   "outputs": [
    {
     "data": {
      "text/plain": [
       "1.6586754838313105"
      ]
     },
     "execution_count": 46,
     "metadata": {},
     "output_type": "execute_result"
    }
   ],
   "source": [
    "np.math.acos((x_vector @ y_vector)/(np.linalg.norm(x_vector)*np.linalg.norm(y_vector)))"
   ]
  },
  {
   "cell_type": "code",
   "execution_count": null,
   "id": "fe6cf77e",
   "metadata": {},
   "outputs": [],
   "source": []
  }
 ],
 "metadata": {
  "kernelspec": {
   "display_name": "Python 3 (ipykernel)",
   "language": "python",
   "name": "python3"
  },
  "language_info": {
   "codemirror_mode": {
    "name": "ipython",
    "version": 3
   },
   "file_extension": ".py",
   "mimetype": "text/x-python",
   "name": "python",
   "nbconvert_exporter": "python",
   "pygments_lexer": "ipython3",
   "version": "3.9.12"
  }
 },
 "nbformat": 4,
 "nbformat_minor": 5
}
